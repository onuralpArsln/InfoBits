{
 "cells": [
  {
   "cell_type": "markdown",
   "metadata": {},
   "source": [
    "Girilen Sayının:\n",
    "+ 100 ile 1000 arasında olması\n",
    "+ 7 ile tam bölünmesi\n",
    "+ 5 ile tam bölünmemesi\n",
    "+ 3 ile tam bölünmesi\n",
    "+ 2 ile tam bölünme\n",
    "Gerekmektedir"
   ]
  },
  {
   "cell_type": "code",
   "execution_count": 35,
   "metadata": {},
   "outputs": [],
   "source": [
    "inputNum = 252"
   ]
  },
  {
   "cell_type": "code",
   "execution_count": 36,
   "metadata": {},
   "outputs": [
    {
     "name": "stdout",
     "output_type": "stream",
     "text": [
      "sayı kabul edildi\n"
     ]
    }
   ],
   "source": [
    "if(inputNum<1000):\n",
    "    if(inputNum>100):\n",
    "        if(inputNum%7 == 0):\n",
    "            if(inputNum%5 != 0):\n",
    "                if(inputNum%3 == 0):\n",
    "                    if(inputNum%2 == 0):\n",
    "                        print(\"sayı kabul edildi\")\n",
    "                    else:\n",
    "                        print(\"sayı 2'e tam bölünmedi\")\n",
    "                else:\n",
    "                    print(\"sayı 3'e tam bölünmedi\")\n",
    "            else:\n",
    "                print(\"sayı 5'e tam bölündü\")\n",
    "        else:\n",
    "            print(\"sayı 7'ye tam bölünmedi\")\n",
    "    else:\n",
    "        print(\"sayı çok küçük\")\n",
    "else:\n",
    "     print(\"sayı çok büyük\")\n",
    "\n"
   ]
  },
  {
   "cell_type": "code",
   "execution_count": 46,
   "metadata": {},
   "outputs": [],
   "source": [
    "inputNum=252"
   ]
  },
  {
   "cell_type": "code",
   "execution_count": 47,
   "metadata": {},
   "outputs": [
    {
     "name": "stdout",
     "output_type": "stream",
     "text": [
      "sayı  kabul edildi\n"
     ]
    }
   ],
   "source": [
    "if(inputNum>1000):\n",
    "   print(\"sayı çok büyük\")\n",
    "elif(inputNum<100):\n",
    "   print(\"sayı çok küçük\")\n",
    "elif(inputNum%7 != 0):\n",
    "   print(\"sayı 7'ye tam bölünmedi\")\n",
    "elif(inputNum%5 == 0):\n",
    "   print(\"sayı 5'e tam bölündü\")\n",
    "elif (inputNum%3 != 0):\n",
    "   print(\"sayı 3'e tam bölünmedi\")\n",
    "elif(inputNum%2 != 0):\n",
    "   print(\"sayı 2'e tam bölünmedi\")\n",
    "\n",
    "else:\n",
    "    print(\"sayı  kabul edildi\")\n",
    "   "
   ]
  }
 ],
 "metadata": {
  "kernelspec": {
   "display_name": "Python 3",
   "language": "python",
   "name": "python3"
  },
  "language_info": {
   "codemirror_mode": {
    "name": "ipython",
    "version": 3
   },
   "file_extension": ".py",
   "mimetype": "text/x-python",
   "name": "python",
   "nbconvert_exporter": "python",
   "pygments_lexer": "ipython3",
   "version": "3.11.9"
  }
 },
 "nbformat": 4,
 "nbformat_minor": 2
}
