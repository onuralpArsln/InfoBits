{
  "nbformat": 4,
  "nbformat_minor": 0,
  "metadata": {
    "colab": {
      "provenance": [],
      "authorship_tag": "ABX9TyOye1G8jK3GR0n6eVNadA1B",
      "include_colab_link": true
    },
    "kernelspec": {
      "name": "python3",
      "display_name": "Python 3"
    },
    "language_info": {
      "name": "python"
    }
  },
  "cells": [
    {
      "cell_type": "markdown",
      "metadata": {
        "id": "view-in-github",
        "colab_type": "text"
      },
      "source": [
        "<a href=\"https://colab.research.google.com/github/onuralpArsln/InfoBits/blob/main/MonteCarloSim.ipynb\" target=\"_parent\"><img src=\"https://colab.research.google.com/assets/colab-badge.svg\" alt=\"Open In Colab\"/></a>"
      ]
    },
    {
      "cell_type": "code",
      "execution_count": 3,
      "metadata": {
        "id": "UdQoAaKF4HwY"
      },
      "outputs": [],
      "source": [
        "!pip install rocketpy -q\n",
        "from rocketpy import Environment, SolidMotor, Rocket, Flight, MonteCarlo, Function\n",
        "from rocketpy.stochastic import (\n",
        "    StochasticEnvironment,\n",
        "    StochasticSolidMotor,\n",
        "    StochasticRocket,\n",
        "    StochasticFlight,\n",
        "    StochasticNoseCone,\n",
        "    StochasticTail,\n",
        "    StochasticTrapezoidalFins,\n",
        "    StochasticParachute,\n",
        "    StochasticRailButtons,\n",
        ")\n",
        "import datetime\n",
        "%matplotlib widget"
      ]
    }
  ]
}