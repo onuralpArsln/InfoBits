{
  "nbformat": 4,
  "nbformat_minor": 0,
  "metadata": {
    "colab": {
      "provenance": [],
      "authorship_tag": "ABX9TyMKWb0iaqEfAeUA60+XNBvU",
      "include_colab_link": true
    },
    "kernelspec": {
      "name": "python3",
      "display_name": "Python 3"
    },
    "language_info": {
      "name": "python"
    }
  },
  "cells": [
    {
      "cell_type": "markdown",
      "metadata": {
        "id": "view-in-github",
        "colab_type": "text"
      },
      "source": [
        "<a href=\"https://colab.research.google.com/github/onuralpArsln/InfoBits/blob/main/MonteCarloSim.ipynb\" target=\"_parent\"><img src=\"https://colab.research.google.com/assets/colab-badge.svg\" alt=\"Open In Colab\"/></a>"
      ]
    },
    {
      "cell_type": "code",
      "execution_count": 5,
      "metadata": {
        "id": "UdQoAaKF4HwY"
      },
      "outputs": [],
      "source": [
        "!curl -o NACA0012-radians.txt https://raw.githubusercontent.com/RocketPy-Team/RocketPy/master/data/airfoils/NACA0012-radians.txt\n",
        "!curl -o Cesaroni_M1670.eng https://raw.githubusercontent.com/RocketPy-Team/RocketPy/master/data/motors/cesaroni/Cesaroni_M1670.eng\n",
        "!curl -o powerOffDragCurve.csv https://raw.githubusercontent.com/RocketPy-Team/RocketPy/master/data/rockets/calisto/powerOffDragCurve.csv\n",
        "!curl -o powerOnDragCurve.csv https://raw.githubusercontent.com/RocketPy-Team/RocketPy/master/data/rockets/calisto/powerOnDragCurve.csv\n",
        "!pip install rocketpy -q\n",
        "from rocketpy import Environment, SolidMotor, Rocket, Flight, MonteCarlo, Function\n",
        "from rocketpy.stochastic import (\n",
        "    StochasticEnvironment,\n",
        "    StochasticSolidMotor,\n",
        "    StochasticRocket,\n",
        "    StochasticFlight,\n",
        "    StochasticNoseCone,\n",
        "    StochasticTail,\n",
        "    StochasticTrapezoidalFins,\n",
        "    StochasticParachute,\n",
        "    StochasticRailButtons,\n",
        ")\n",
        "from rocketpy import Environment, SolidMotor, Rocket, Flight\n",
        "import datetime\n",
        "\n",
        "%config InlineBackend.figure_formats = ['svg']\n",
        "%matplotlib inline\n"
      ]
    }
  ]
}