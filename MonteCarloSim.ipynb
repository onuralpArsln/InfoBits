{
  "nbformat": 4,
  "nbformat_minor": 0,
  "metadata": {
    "colab": {
      "provenance": [],
      "authorship_tag": "ABX9TyNkndcotipnJBcHOKFdsbWZ",
      "include_colab_link": true
    },
    "kernelspec": {
      "name": "python3",
      "display_name": "Python 3"
    },
    "language_info": {
      "name": "python"
    }
  },
  "cells": [
    {
      "cell_type": "markdown",
      "metadata": {
        "id": "view-in-github",
        "colab_type": "text"
      },
      "source": [
        "<a href=\"https://colab.research.google.com/github/onuralpArsln/InfoBits/blob/main/MonteCarloSim.ipynb\" target=\"_parent\"><img src=\"https://colab.research.google.com/assets/colab-badge.svg\" alt=\"Open In Colab\"/></a>"
      ]
    },
    {
      "cell_type": "markdown",
      "source": [
        "PreReq\n",
        "This cell will be used to prepare your env"
      ],
      "metadata": {
        "id": "RcgGwK7t6m5-"
      }
    },
    {
      "cell_type": "code",
      "execution_count": 5,
      "metadata": {
        "id": "UdQoAaKF4HwY"
      },
      "outputs": [],
      "source": [
        "!curl -o NACA0012-radians.txt https://raw.githubusercontent.com/RocketPy-Team/RocketPy/master/data/airfoils/NACA0012-radians.txt\n",
        "!curl -o Cesaroni_M1670.eng https://raw.githubusercontent.com/RocketPy-Team/RocketPy/master/data/motors/cesaroni/Cesaroni_M1670.eng\n",
        "!curl -o powerOffDragCurve.csv https://raw.githubusercontent.com/RocketPy-Team/RocketPy/master/data/rockets/calisto/powerOffDragCurve.csv\n",
        "!curl -o powerOnDragCurve.csv https://raw.githubusercontent.com/RocketPy-Team/RocketPy/master/data/rockets/calisto/powerOnDragCurve.csv\n",
        "!pip install rocketpy -q\n",
        "from rocketpy import Environment, SolidMotor, Rocket, Flight, MonteCarlo, Function\n",
        "from rocketpy.stochastic import (\n",
        "    StochasticEnvironment,\n",
        "    StochasticSolidMotor,\n",
        "    StochasticRocket,\n",
        "    StochasticFlight,\n",
        "    StochasticNoseCone,\n",
        "    StochasticTail,\n",
        "    StochasticTrapezoidalFins,\n",
        "    StochasticParachute,\n",
        "    StochasticRailButtons,\n",
        ")\n",
        "from rocketpy import Environment, SolidMotor, Rocket, Flight\n",
        "import datetime\n",
        "\n",
        "%config InlineBackend.figure_formats = ['svg']\n",
        "%matplotlib inline\n"
      ]
    },
    {
      "cell_type": "code",
      "source": [
        "# Environment\n",
        "env = Environment(latitude=39.389700, longitude=-8.288964, elevation=113)\n",
        "tomorrow = datetime.date.today() + datetime.timedelta(days=1)\n",
        "env.set_date((tomorrow.year, tomorrow.month, tomorrow.day, 12))\n",
        "env.set_atmospheric_model(type=\"Ensemble\", file=\"GEFS\")\n",
        "\n",
        "# Motor\n",
        "motor = SolidMotor(\n",
        "    thrust_source=\"Cesaroni_M1670.eng\",\n",
        "    dry_mass=1.815,\n",
        "    dry_inertia=(0.125, 0.125, 0.002),\n",
        "    nozzle_radius=33 / 1000,\n",
        "    grain_number=5,\n",
        "    grain_density=1815,\n",
        "    grain_outer_radius=33 / 1000,\n",
        "    grain_initial_inner_radius=15 / 1000,\n",
        "    grain_initial_height=120 / 1000,\n",
        "    grain_separation=5 / 1000,\n",
        "    grains_center_of_mass_position=0.397,\n",
        "    center_of_dry_mass_position=0.317,\n",
        "    nozzle_position=0,\n",
        "    burn_time=3.9,\n",
        "    throat_radius=11 / 1000,\n",
        "    coordinate_system_orientation=\"nozzle_to_combustion_chamber\",\n",
        ")\n",
        "print(f\"Total Impulse of the Solid Motor: {motor.total_impulse} Ns\")\n",
        "\n",
        "# Rocket\n",
        "rocket = Rocket(\n",
        "    radius=127 / 2000,\n",
        "    mass=14.426,\n",
        "    inertia=(6.321, 6.321, 0.034),\n",
        "    power_off_drag=\"powerOffDragCurve.csv\",\n",
        "    power_on_drag=\"powerOnDragCurve.csv\",\n",
        "    center_of_mass_without_motor=0,\n",
        "    coordinate_system_orientation=\"tail_to_nose\",\n",
        ")\n",
        "\n",
        "rail_buttons = rocket.set_rail_buttons(\n",
        "    upper_button_position=0.0818,\n",
        "    lower_button_position=-0.618,\n",
        "    angular_position=45,\n",
        ")\n",
        "\n",
        "rocket.add_motor(motor, position=-1.255)\n",
        "\n",
        "nose_cone = rocket.add_nose(length=0.55829, kind=\"vonKarman\", position=1.278)\n",
        "\n",
        "fin_set = rocket.add_trapezoidal_fins(\n",
        "    n=4,\n",
        "    root_chord=0.120,\n",
        "    tip_chord=0.060,\n",
        "    span=0.110,\n",
        "    position=-1.04956,\n",
        "    cant_angle=0.5,\n",
        "    airfoil=(\"NACA0012-radians.txt\", \"radians\"),\n",
        ")\n",
        "\n",
        "tail = rocket.add_tail(\n",
        "    top_radius=0.0635, bottom_radius=0.0435, length=0.060, position=-1.194656\n",
        ")\n",
        "Main = rocket.add_parachute(\n",
        "    \"Main\",\n",
        "    cd_s=10.0,\n",
        "    trigger=800,\n",
        "    sampling_rate=105,\n",
        "    lag=1.5,\n",
        "    noise=(0, 8.3, 0.5),\n",
        ")\n",
        "\n",
        "Drogue = rocket.add_parachute(\n",
        "    \"Drogue\",\n",
        "    cd_s=1.0,\n",
        "    trigger=\"apogee\",\n",
        "    sampling_rate=105,\n",
        "    lag=1.5,\n",
        "    noise=(0, 8.3, 0.5),\n",
        ")\n",
        "\n",
        "# Flight\n",
        "test_flight = Flight(\n",
        "    rocket=rocket,\n",
        "    environment=env,\n",
        "    rail_length=5,\n",
        "    inclination=84,\n",
        "    heading=133,\n",
        ")"
      ],
      "metadata": {
        "colab": {
          "base_uri": "https://localhost:8080/"
        },
        "id": "SLgXiTfe6BZC",
        "outputId": "b620f859-5281-4902-a681-5d25546378bd"
      },
      "execution_count": 13,
      "outputs": [
        {
          "output_type": "stream",
          "name": "stdout",
          "text": [
            "Total Impulse of the Solid Motor: 6026.35 Ns\n"
          ]
        }
      ]
    }
  ]
}