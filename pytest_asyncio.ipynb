{
  "nbformat": 4,
  "nbformat_minor": 0,
  "metadata": {
    "colab": {
      "provenance": [],
      "authorship_tag": "ABX9TyMLJEtjAEthHniwfiNrPvKq",
      "include_colab_link": true
    },
    "kernelspec": {
      "name": "python3",
      "display_name": "Python 3"
    },
    "language_info": {
      "name": "python"
    }
  },
  "cells": [
    {
      "cell_type": "markdown",
      "metadata": {
        "id": "view-in-github",
        "colab_type": "text"
      },
      "source": [
        "<a href=\"https://colab.research.google.com/github/onuralpArsln/InfoBits/blob/main/pytest_asyncio.ipynb\" target=\"_parent\"><img src=\"https://colab.research.google.com/assets/colab-badge.svg\" alt=\"Open In Colab\"/></a>"
      ]
    },
    {
      "cell_type": "code",
      "source": [
        "import aiohttp\n",
        "\n",
        "async def post_message(url, data, msg_id):\n",
        "    async with aiohttp.ClientSession() as session:\n",
        "        try:\n",
        "            async with session.post(url, json=data, ssl=False) as resp:\n",
        "                result = await resp.text()\n",
        "                resp.raise_for_status()\n",
        "                return msg_id, result, resp.status\n",
        "        except Exception:\n",
        "            return msg_id, \"Error pushing data\", None"
      ],
      "metadata": {
        "id": "s8-iJwzv0B7g"
      },
      "execution_count": 2,
      "outputs": []
    },
    {
      "cell_type": "code",
      "execution_count": 3,
      "metadata": {
        "colab": {
          "base_uri": "https://localhost:8080/"
        },
        "id": "H7GVLlKHzBoy",
        "outputId": "65b5af29-d4fa-403a-a97c-c076d0662a29"
      },
      "outputs": [
        {
          "output_type": "stream",
          "name": "stdout",
          "text": [
            "Test passed ✅\n"
          ]
        },
        {
          "output_type": "stream",
          "name": "stderr",
          "text": [
            "<ipython-input-2-faa516f31994>:8: RuntimeWarning: coroutine 'AsyncMockMixin._execute_mock_call' was never awaited\n",
            "  resp.raise_for_status()\n",
            "RuntimeWarning: Enable tracemalloc to get the object allocation traceback\n"
          ]
        }
      ],
      "source": [
        "import pytest\n",
        "import asyncio\n",
        "from unittest.mock import AsyncMock, patch\n",
        "\n",
        "@pytest.mark.asyncio\n",
        "async def test_post_message():\n",
        "    mock_resp = AsyncMock()\n",
        "    mock_resp.text.return_value = \"Success\"\n",
        "    mock_resp.status = 200\n",
        "    mock_resp.__aenter__.return_value = mock_resp\n",
        "\n",
        "    with patch(\"aiohttp.ClientSession.post\", return_value=mock_resp):\n",
        "        msg_id, result, status = await post_message(\"http://test.com\", {}, \"123\")\n",
        "        assert msg_id == \"123\"\n",
        "        assert result == \"Success\"\n",
        "        assert status == 200\n",
        "\n",
        "# Run the test manually\n",
        "await test_post_message()\n",
        "print(\"Test passed ✅\")\n"
      ]
    }
  ]
}